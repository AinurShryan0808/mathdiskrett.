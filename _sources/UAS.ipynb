{
 "cells": [
  {
   "cell_type": "markdown",
   "metadata": {},
   "source": [
    "---\n",
    "title: UAS\n",
    "\n",
    "---\n",
    "# UAS\n",
    "## Soal\n",
    "**1.**\n",
    "| no  |  P  | Q   | R   |  S  | \n",
    "|:---:|:---:| --- | --- |:---:|\n",
    "|  1  |  T  | F   | T   |  F  |\n",
    "|  2  |  T  | T   | T   |  T  |\n",
    "|  3  |  F  | T   | F   |  F  |\n",
    "|  4  |  T  | F   | F   |  F  |\n",
    "|  5  |  F  | T   | T   |  F  |\n",
    "|  6  |  F  | F   | F   |  T  |\n",
    "|  7  |  T  | F   | T   |  F  |\n",
    "|  8  |  F  | T   | T   |  F  |\n",
    "\n",
    "$$(P \\to Q)\\to(R \\to S)$$\n",
    "\n",
    "**2.** \n",
    "A,B,C,D,E,F\n",
    "Closenes Centrality\n",
    "\n",
    "## jawaban\n",
    "\n",
    "**1.**\n",
    "| no  | $$P \\to Q$$ | $$R \\to S$$ | $$(P \\to Q)\\to(R \\to S)$$ |\n",
    "|:---:|:-----------:|:-----------:|:-------------------------:|\n",
    "|  1  |      F      |      F      |             T             |\n",
    "|  2  |      T      |      T      |             T             |\n",
    "|  3  |      T      |      T      |             T             |\n",
    "|  4  |      F      |      T      |             T             |\n",
    "|  5  |      T      |      F      |             F             |\n",
    "|  6  |      T      |      T      |             T             |\n",
    "|  7  |      F      |      F      |             T             |\n",
    "|  8  |      T      |      F      |             F             |\n",
    "\n",
    "2.\n",
    "```mermaid\n",
    "graph TD;\n",
    "    A --- D\n",
    "    C --- A\n",
    "    C --- G\n",
    "    C --- B\n",
    "    B --- D   \n",
    "    G --- F\n",
    "    A --- F\n",
    "    F --- E\n",
    "    D --- E\n",
    "    \n",
    "```"
   ]
  }
 ],
 "metadata": {
  "language_info": {
   "name": "python"
  }
 },
 "nbformat": 4,
 "nbformat_minor": 2
}
